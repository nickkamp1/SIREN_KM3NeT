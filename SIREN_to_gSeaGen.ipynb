{
 "cells": [
  {
   "cell_type": "code",
   "execution_count": 1,
   "id": "6b9d11db-bb35-41d4-81ea-323aa725bc67",
   "metadata": {},
   "outputs": [],
   "source": [
    "from SIREN_to_gSeaGen import SIREN_to_gSeaGen\n",
    "import awkward as ak\n",
    "import uproot"
   ]
  },
  {
   "cell_type": "code",
   "execution_count": 2,
   "id": "c7262391-fb3b-40d7-93a7-eef1efe6299b",
   "metadata": {},
   "outputs": [
    {
     "name": "stderr",
     "output_type": "stream",
     "text": [
      "/n/holylfs05/LABS/arguelles_delgado_lab/Everyone/nkamp/KM3NeT/SIREN_KM3NeT/SIREN_to_gSeaGen.py:52: RuntimeWarning: invalid value encountered in sqrt\n",
      "  primary_mass = np.sqrt(four_vector_dot(primary_momentum,primary_momentum))\n",
      "/n/holylfs05/LABS/arguelles_delgado_lab/Everyone/nkamp/KM3NeT/SIREN_KM3NeT/SIREN_to_gSeaGen.py:54: RuntimeWarning: divide by zero encountered in divide\n",
      "  gamma = primary_momentum[...,0]/primary_mass\n"
     ]
    }
   ],
   "source": [
    "siren_file = ak.from_parquet(\"input/IceCube_DipoleDIS_m4_0.6_mu_1.00e-06.parquet\")\n",
    "converter = SIREN_to_gSeaGen(siren_file)"
   ]
  },
  {
   "cell_type": "code",
   "execution_count": 3,
   "id": "32047787-97b4-46d7-9779-13e4cb0961a0",
   "metadata": {},
   "outputs": [],
   "source": [
    "with uproot.recreate(\"output/IceCube_DipoleDIS_m4_0.6_mu_1.00e-06.root\") as root_file:\n",
    "    converter.output(root_file)"
   ]
  },
  {
   "cell_type": "code",
   "execution_count": 11,
   "id": "a596e7d7-8543-4cc7-99ae-cc5d43d6a2b1",
   "metadata": {},
   "outputs": [],
   "source": [
    "read_file = uproot.open(\"output/IceCube_DipoleDIS_m4_0.6_mu_1.00e-07.root\")"
   ]
  },
  {
   "cell_type": "code",
   "execution_count": 13,
   "id": "312258d5-fb53-4d98-a976-268a597a6f74",
   "metadata": {},
   "outputs": [
    {
     "name": "stdout",
     "output_type": "stream",
     "text": [
      "name                 | typename                 | interpretation                \n",
      "---------------------+--------------------------+-------------------------------\n",
      "Evt                  | int64_t                  | AsDtype('>i8')\n",
      "PScale               | double                   | AsDtype('>f8')\n",
      "TargetZ              | int64_t                  | AsDtype('>i8')\n",
      "TargetA              | int64_t                  | AsDtype('>i8')\n",
      "InterID              | double                   | AsDtype('>f8')\n",
      "Bx                   | double                   | AsDtype('>f8')\n",
      "By                   | double                   | AsDtype('>f8')\n",
      "LST                  | double                   | AsDtype('>f8')\n",
      "MJD                  | double                   | AsDtype('>f8')\n",
      "VerInCan             | bool                     | AsDtype('bool')\n",
      "WaterXSec            | double                   | AsDtype('>f8')\n",
      "WaterIntLen          | double                   | AsDtype('>f8')\n",
      "PEarth               | double                   | AsDtype('>f8')\n",
      "ColumnDepth          | double                   | AsDtype('>f8')\n",
      "XSecMean             | double                   | AsDtype('>f8')\n",
      "GenWeight            | double                   | AsDtype('>f8')\n",
      "EvtWeight            | double                   | AsDtype('>f8')\n",
      "E_nu                 | double                   | AsDtype('>f8')\n",
      "Pdg_nu               | int64_t                  | AsDtype('>i8')\n",
      "Vx_nu                | double                   | AsDtype('>f8')\n",
      "Vy_nu                | double                   | AsDtype('>f8')\n",
      "Vz_nu                | double                   | AsDtype('>f8')\n",
      "Dx_nu                | double                   | AsDtype('>f8')\n",
      "Dy_nu                | double                   | AsDtype('>f8')\n",
      "Dz_nu                | double                   | AsDtype('>f8')\n",
      "T_nu                 | double                   | AsDtype('>f8')\n",
      "E_pl                 | double                   | AsDtype('>f8')\n",
      "Dx_pl                | double                   | AsDtype('>f8')\n",
      "Dy_pl                | double                   | AsDtype('>f8')\n",
      "Dz_pl                | double                   | AsDtype('>f8')\n",
      "NTracks              | int64_t                  | AsDtype('>i8')\n",
      "Id_tr                | int64_t[4]               | AsDtype(\"('>i8', (4,))\")\n",
      "E_tr                 | double[4]                | AsDtype(\"('>f8', (4,))\")\n",
      "Pdg_tr               | int64_t[4]               | AsDtype(\"('>i8', (4,))\")\n",
      "Vx_tr                | double[4]                | AsDtype(\"('>f8', (4,))\")\n",
      "Vy_tr                | double[4]                | AsDtype(\"('>f8', (4,))\")\n",
      "Vz_tr                | double[4]                | AsDtype(\"('>f8', (4,))\")\n",
      "Dx_tr                | double[4]                | AsDtype(\"('>f8', (4,))\")\n",
      "Dy_tr                | double[4]                | AsDtype(\"('>f8', (4,))\")\n",
      "Dz_tr                | double[4]                | AsDtype(\"('>f8', (4,))\")\n",
      "T_tr                 | double[4]                | AsDtype(\"('>f8', (4,))\")\n",
      "NSysWgt              | double                   | AsDtype('>f8')\n",
      "WSys                 | double                   | AsDtype('>f8')\n",
      "NSysWgt_ParName      | double                   | AsDtype('>f8')\n",
      "WSys_ParName         | double                   | AsDtype('>f8')\n"
     ]
    },
    {
     "data": {
      "text/html": [
       "<pre>[[0, 0, 2.05, 2.05],\n",
       " [0, 0, 2.67, 2.67],\n",
       " [0, 0, 69.2, 69.2],\n",
       " [0, 0, 36.9, 36.9],\n",
       " [0, 0, 26.4, 26.4],\n",
       " [0, 0, 2.89, 2.89],\n",
       " [0, 0, 3.31, 3.31],\n",
       " [0, 0, 1.34, 1.34],\n",
       " [0, 0, 42.6, 42.6],\n",
       " [0, 0, 222, 222],\n",
       " ...,\n",
       " [0, 0, 10.4, 10.4],\n",
       " [0, 0, 11, 11],\n",
       " [0, 0, 24, 24],\n",
       " [0, 0, 1.98, 1.98],\n",
       " [0, 0, 19.6, 19.6],\n",
       " [0, 0, 4.94, 4.94],\n",
       " [0, 0, 17.1, 17.1],\n",
       " [0, 0, 47.9, 47.9],\n",
       " [0, 0, 89.5, 89.5]]\n",
       "-------------------------\n",
       "type: 10000 * 4 * float64</pre>"
      ],
      "text/plain": [
       "<Array [[0, 0, 2.05, 2.05], ..., [0, 0, ..., 89.5]] type='10000 * 4 * float64'>"
      ]
     },
     "execution_count": 13,
     "metadata": {},
     "output_type": "execute_result"
    }
   ],
   "source": [
    "read_file[\"Events\"].show()\n",
    "read_file[\"Events\"][\"T_tr\"].array()"
   ]
  }
 ],
 "metadata": {
  "kernelspec": {
   "display_name": "lienv",
   "language": "python",
   "name": "lienv"
  },
  "language_info": {
   "codemirror_mode": {
    "name": "ipython",
    "version": 3
   },
   "file_extension": ".py",
   "mimetype": "text/x-python",
   "name": "python",
   "nbconvert_exporter": "python",
   "pygments_lexer": "ipython3",
   "version": "3.10.13"
  }
 },
 "nbformat": 4,
 "nbformat_minor": 5
}
